{
 "cells": [
  {
   "cell_type": "code",
   "execution_count": 122,
   "metadata": {},
   "outputs": [],
   "source": [
    "import requests\n",
    "import random\n",
    "import re\n",
    "import os\n",
    "import csv\n",
    "import time\n",
    "from bs4 import BeautifulSoup\n",
    "\n",
    "# 免费快代理\n",
    "url = 'https://www.kuaidaili.com/free/inha/'\n",
    "\n",
    "# 用户代理池\n",
    "agent = [\n",
    "        'Mozilla/5.0 (Macintosh; U; Intel Mac OS X 10_6_8; en-us) AppleWebKit/534.50 (KHTML, like Gecko) Version/5.1 Safari/534.50',\n",
    "        'Mozilla/5.0 (Windows; U; Windows NT 6.1; en-us) AppleWebKit/534.50 (KHTML, like Gecko) Version/5.1 Safari/534.50',\n",
    "        'Mozilla/5.0 (compatible; MSIE 9.0; Windows NT 6.1; Trident/5.0',\n",
    "        'Mozilla/4.0 (compatible; MSIE 8.0; Windows NT 6.0; Trident/4.0)',\n",
    "        'Mozilla/4.0 (compatible; MSIE 7.0; Windows NT 6.0)',\n",
    "        'Mozilla/4.0 (compatible; MSIE 6.0; Windows NT 5.1)',\n",
    "        'Mozilla/5.0 (Macintosh; Intel Mac OS X 10.6; rv:2.0.1) Gecko/20100101 Firefox/4.0.1',\n",
    "        'Mozilla/5.0 (Windows NT 6.1; rv:2.0.1) Gecko/20100101 Firefox/4.0.1',\n",
    "        'Opera/9.80 (Macintosh; Intel Mac OS X 10.6.8; U; en) Presto/2.8.131 Version/11.11',\n",
    "        'Opera/9.80 (Windows NT 6.1; U; en) Presto/2.8.131 Version/11.11',\n",
    "        'Mozilla/5.0 (Macintosh; Intel Mac OS X 10_7_0) AppleWebKit/535.11 (KHTML, like Gecko) Chrome/17.0.963.56 Safari/535.11',\n",
    "        'Mozilla/4.0 (compatible; MSIE 7.0; Windows NT 5.1; Maxthon 2.0)',\n",
    "        'Mozilla/4.0 (compatible; MSIE 7.0; Windows NT 5.1; TencentTraveler 4.0)',\n",
    "        'Mozilla/4.0 (compatible; MSIE 7.0; Windows NT 5.1)',\n",
    "        'Mozilla/4.0 (compatible; MSIE 7.0; Windows NT 5.1; The World)',\n",
    "        'Mozilla/4.0 (compatible; MSIE 7.0; Windows NT 5.1; Trident/4.0; SE 2.X MetaSr 1.0; SE 2.X MetaSr 1.0; .NET CLR 2.0.50727; SE 2.X MetaSr 1.0)',\n",
    "        'Mozilla/4.0 (compatible; MSIE 7.0; Windows NT 5.1)'\n",
    "]\n",
    "\n",
    "# 请求头部\n",
    "params = {}\n",
    "\n",
    "# csv 头部\n",
    "csv_headers = ['ip','port','request_type','time']"
   ]
  },
  {
   "cell_type": "code",
   "execution_count": 119,
   "metadata": {},
   "outputs": [],
   "source": [
    "class Utils(object):\n",
    "    def getHeaders(self):\n",
    "        headers = {\n",
    "            'User-Agent' : random.sample(agent, 1)[0]\n",
    "        }\n",
    "        return headers\n",
    "    def get_path(self):\n",
    "        return os.getcwd()"
   ]
  },
  {
   "cell_type": "code",
   "execution_count": 160,
   "metadata": {},
   "outputs": [],
   "source": [
    "class Spider(object):\n",
    "    \"\"\"\n",
    "    捕获数据类\n",
    "    \"\"\"\n",
    "    def __init__(self, url):\n",
    "        self.url = url\n",
    "    def send_request(self, prms = {}, url = '', page = 1):\n",
    "        \"\"\"\n",
    "        发送请求\n",
    "        :prms:请求字段\n",
    "        :url:请求地址\n",
    "        \"\"\"\n",
    "        if not url:\n",
    "            url = self.url\n",
    "        url = url + str(page)\n",
    "        print(url)\n",
    "        utils = Utils()\n",
    "        request = requests.get(url, headers=utils.getHeaders(), params = prms)\n",
    "        return request.text\n",
    "    def parse_request(self, text):\n",
    "        \"\"\"\n",
    "        解析文本\n",
    "        :text:文本数据\n",
    "        \"\"\"\n",
    "        soup = BeautifulSoup(text,'lxml')\n",
    "        ip_list = soup.find('tbody').find_all('tr')\n",
    "        data_list = []\n",
    "        for data in ip_list:\n",
    "            data_list.append({\n",
    "                'ip' : data.find('td', attrs={\"data-title\": \"IP\"}).get_text(),\n",
    "                'port' : data.find('td', attrs={\"data-title\": \"PORT\"}).get_text(),\n",
    "                'request_type' : data.find('td', attrs={\"data-title\": \"类型\"}).get_text(),\n",
    "                'time' : re.search(r\"(\\d+\\.?\\d*)\", data.find('td',attrs={\"data-title\": \"响应速度\"}).get_text()).group(1)\n",
    "            })\n",
    "        return data_list"
   ]
  },
  {
   "cell_type": "code",
   "execution_count": 136,
   "metadata": {},
   "outputs": [],
   "source": [
    "class Test(object):\n",
    "    \"\"\"\n",
    "    验证类\n",
    "    \"\"\"\n",
    "    def check_ip(self, req_type, ip, port):\n",
    "        \"\"\"\n",
    "        测试代理ip\n",
    "        :req_type:协议类型\n",
    "        :ip:代理ip\n",
    "        :port:端口号\n",
    "        \"\"\"\n",
    "        utils = Utils()\n",
    "        proxies = {\n",
    "            req_type.lower() : req_type.lower() + '://' + ip + ':' + port\n",
    "        }\n",
    "        request = requests.get(\"https://www.baidu.com\",headers = utils.getHeaders(), proxies = proxies, timeout = 1)\n",
    "        return request.status_code == 200"
   ]
  },
  {
   "cell_type": "code",
   "execution_count": 163,
   "metadata": {},
   "outputs": [],
   "source": [
    "class Save(object):\n",
    "    def __init__(self, path):\n",
    "        self.path = path\n",
    "    def csv_save(self, ip_list):\n",
    "        utils = Utils()\n",
    "        test = Test()\n",
    "        if(test.check_ip(ip_list['request_type'], ip_list['ip'], ip_list['port'])):\n",
    "            with open('ip.csv',mode = 'a', newline='') as f:\n",
    "                writer = csv.DictWriter(f, csv_headers)\n",
    "                writer.writerow(ip_list)\n",
    "        else:\n",
    "            print(\"此ip不可用!!!\")"
   ]
  },
  {
   "cell_type": "code",
   "execution_count": 165,
   "metadata": {},
   "outputs": [
    {
     "name": "stdout",
     "output_type": "stream",
     "text": [
      "https://www.kuaidaili.com/free/inha/1\n"
     ]
    }
   ],
   "source": [
    "# 保存可行代理ip\n",
    "if __name__ == '__main__':\n",
    "    spider = Spider(url)\n",
    "    utils = Utils()\n",
    "    save = Save(utils.get_path())\n",
    "    # 存储csv头\n",
    "    with open('ip.csv',mode = 'a', newline='') as f:\n",
    "            writer = csv.DictWriter(f, csv_headers)\n",
    "            writer.writeheader()\n",
    "    page_list = spider.parse_request(spider.send_request(params, 0))\n",
    "    for ip in page_list:\n",
    "        save.csv_save(ip)\n",
    "        time.sleep(1)"
   ]
  },
  {
   "cell_type": "code",
   "execution_count": 162,
   "metadata": {},
   "outputs": [
    {
     "data": {
      "text/plain": [
       "'0.2'"
      ]
     },
     "execution_count": 162,
     "metadata": {},
     "output_type": "execute_result"
    }
   ],
   "source": [
    "# 测试re.rearch()\n",
    "b = '0.2秒'\n",
    "re.search(r\"(\\d+\\.?\\d*)\",b).group(1)"
   ]
  },
  {
   "cell_type": "code",
   "execution_count": null,
   "metadata": {},
   "outputs": [],
   "source": []
  }
 ],
 "metadata": {
  "kernelspec": {
   "display_name": "Python 3",
   "language": "python",
   "name": "python3"
  },
  "language_info": {
   "codemirror_mode": {
    "name": "ipython",
    "version": 3
   },
   "file_extension": ".py",
   "mimetype": "text/x-python",
   "name": "python",
   "nbconvert_exporter": "python",
   "pygments_lexer": "ipython3",
   "version": "3.7.3"
  }
 },
 "nbformat": 4,
 "nbformat_minor": 2
}
